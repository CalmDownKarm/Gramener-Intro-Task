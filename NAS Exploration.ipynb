{
 "cells": [
  {
   "cell_type": "markdown",
   "metadata": {},
   "source": [
    "# Gramener Data Science Entry Level Position Use Case 1"
   ]
  },
  {
   "cell_type": "code",
   "execution_count": 2,
   "metadata": {
    "collapsed": true
   },
   "outputs": [],
   "source": [
    "#imports\n",
    "import pandas as pd\n",
    "import seaborn as sns\n",
    "import matplotlib.pyplot as plt\n"
   ]
  },
  {
   "cell_type": "code",
   "execution_count": 12,
   "metadata": {
    "scrolled": true
   },
   "outputs": [
    {
     "name": "stdout",
     "output_type": "stream",
     "text": [
      "<class 'pandas.core.frame.DataFrame'>\n",
      "RangeIndex: 185348 entries, 0 to 185347\n",
      "Data columns (total 64 columns):\n",
      "STUID                     185348 non-null int64\n",
      "State                     185348 non-null object\n",
      "District                  185348 non-null int64\n",
      "Gender                    185348 non-null int64\n",
      "Age                       185348 non-null int64\n",
      "Category                  185348 non-null int64\n",
      "Same language             185348 non-null int64\n",
      "Siblings                  185348 non-null int64\n",
      "Handicap                  185348 non-null int64\n",
      "Father edu                185348 non-null int64\n",
      "Mother edu                185348 non-null int64\n",
      "Father occupation         185348 non-null int64\n",
      "Mother occupation         185348 non-null int64\n",
      "Below poverty             185348 non-null int64\n",
      "Use calculator            185348 non-null int64\n",
      "Use computer              166186 non-null object\n",
      "Use Internet              185348 non-null int64\n",
      "Use dictionary            185348 non-null int64\n",
      "Read other books          185348 non-null int64\n",
      "# Books                   185348 non-null int64\n",
      "Distance                  185348 non-null int64\n",
      "Computer use              185348 non-null int64\n",
      "Library use               185348 non-null int64\n",
      "Like school               185348 non-null int64\n",
      "Subjects                  185348 non-null object\n",
      "Give Lang HW              185348 non-null int64\n",
      "Give Math HW              185348 non-null int64\n",
      "Give Scie HW              185348 non-null int64\n",
      "Give SoSc HW              185348 non-null int64\n",
      "Correct Lang HW           185348 non-null int64\n",
      "Correct Math HW           185348 non-null int64\n",
      "Correct Scie HW           185348 non-null int64\n",
      "Correct SocS HW           185348 non-null int64\n",
      "Help in Study             185348 non-null int64\n",
      "Private tuition           185348 non-null int64\n",
      "English is difficult      185348 non-null int64\n",
      "Read English              185348 non-null int64\n",
      "Dictionary to learn       185348 non-null int64\n",
      "Answer English WB         185348 non-null int64\n",
      "Answer English aloud      185348 non-null int64\n",
      "Maths is difficult        185348 non-null int64\n",
      "Solve Maths               185348 non-null int64\n",
      "Solve Maths in groups     185348 non-null int64\n",
      "Draw geometry             185348 non-null int64\n",
      "Explain answers           185348 non-null int64\n",
      "SocSci is difficult       185348 non-null int64\n",
      "Historical excursions     185348 non-null int64\n",
      "Participate in SocSci     185348 non-null int64\n",
      "Small groups in SocSci    185348 non-null int64\n",
      "Express SocSci views      185348 non-null int64\n",
      "Science is difficult      185348 non-null int64\n",
      "Observe experiments       185348 non-null int64\n",
      "Conduct experiments       185348 non-null int64\n",
      "Solve science problems    185348 non-null int64\n",
      "Express science views     185348 non-null int64\n",
      "Watch TV                  185348 non-null int64\n",
      "Read magazine             185348 non-null int64\n",
      "Read a book               185348 non-null int64\n",
      "Play games                185348 non-null int64\n",
      "Help in household         185348 non-null int64\n",
      "Maths %                   92681 non-null float64\n",
      "Reading %                 93271 non-null float64\n",
      "Science %                 90992 non-null float64\n",
      "Social %                  89571 non-null float64\n",
      "dtypes: float64(4), int64(57), object(3)\n",
      "memory usage: 90.5+ MB\n"
     ]
    }
   ],
   "source": [
    "datapath = './'\n",
    "filename = 'nas-pupil-marks.csv'\n",
    "Data = pd.read_csv(datapath+filename)\n",
    "Data.info()"
   ]
  },
  {
   "cell_type": "markdown",
   "metadata": {},
   "source": [
    "Walking into this, we have 3 questions that we hope to answer eventually - \n",
    "1. What influences student performance the most?\n",
    "2. How do girls and boys perform across states?\n",
    "3. Do students from South India really excel at Math and Science\n",
    "\n",
    "Before we do deep dives into this, a few issues seem to be cropping up - so let's try to clean the dataset up a little. \n",
    "First we should check for nulls - if present, we should attempt to drop them. "
   ]
  },
  {
   "cell_type": "code",
   "execution_count": 20,
   "metadata": {},
   "outputs": [
    {
     "data": {
      "text/plain": [
       "(185348, 64)"
      ]
     },
     "execution_count": 20,
     "metadata": {},
     "output_type": "execute_result"
    }
   ],
   "source": [
    "NullsDropped = Data.dropna(axis=0,how='all',inplace=False)\n",
    "NullsDropped.shape"
   ]
  },
  {
   "cell_type": "markdown",
   "metadata": {},
   "source": [
    "Immediately, there are no rows such that all values are null. The rows which have the most nulls are our metrics of performance, the maths, science, social science and reading scores. This presents a major problem as we can't easily use a statistical measure such as mean of their respective columns to fill the null values, as this might potentially taint our data as we look for correlations. Dropping all the rows with nulls would also not be ideal, as we'd reduce our current number of data points by ~96% as is evidenced below. "
   ]
  },
  {
   "cell_type": "code",
   "execution_count": 21,
   "metadata": {},
   "outputs": [
    {
     "data": {
      "text/plain": [
       "(8044, 64)"
      ]
     },
     "execution_count": 21,
     "metadata": {},
     "output_type": "execute_result"
    }
   ],
   "source": [
    "NullsDropped = Data.dropna(axis=0,how='any',inplace=False)\n",
    "NullsDropped.shape"
   ]
  },
  {
   "cell_type": "markdown",
   "metadata": {},
   "source": [
    "This is problematic, in that dropping rows which have any nulls reduces the number of rows so drastically. \n",
    "we're literally left with 4% of our initial dataset. \n",
    "One thing that might potentially help is to split our data frame into one frame for each of our metrics, so have a seperate maths column, a separate science column etc. then drop the nulls, this would let us potentially retain close to 40% of our dataset. \n",
    "Moreover, we also have 0 levels in our dataset for columns that shouldn't be given 0 levels according to the labels csv file. We also need find a way to deal with those. "
   ]
  },
  {
   "cell_type": "code",
   "execution_count": 23,
   "metadata": {},
   "outputs": [
    {
     "data": {
      "text/plain": [
       "(83371, 61)"
      ]
     },
     "execution_count": 23,
     "metadata": {},
     "output_type": "execute_result"
    }
   ],
   "source": [
    "Maths = Data.drop(['Reading %','Science %','Social %'],axis=1)\n",
    "Maths.dropna(axis=0,how='any',inplace=True)\n",
    "Maths.shape"
   ]
  },
  {
   "cell_type": "markdown",
   "metadata": {},
   "source": [
    "Similarly, we create a dataset for each metric of performance"
   ]
  },
  {
   "cell_type": "code",
   "execution_count": 25,
   "metadata": {},
   "outputs": [],
   "source": [
    "Reading = Data.drop(['Maths %','Science %','Social %'],axis=1)\n",
    "Reading.dropna(axis=0,how='any',inplace=True)\n",
    "\n",
    "Science = Data.drop(['Maths %','Reading %','Social %'],axis=1)\n",
    "Science.dropna(axis=0,how='any',inplace=True)\n",
    "\n",
    "Social = Data.drop(['Maths %','Reading %','Science %'],axis=1)\n",
    "Social.dropna(axis=0,how='any',inplace=True)\n",
    "\n",
    "Maths_and_Science = Data.drop(['Reading %','Social %'],axis=1)\n",
    "Maths_and_Science.dropna(axis=0,how='any',inplace=True)"
   ]
  },
  {
   "cell_type": "code",
   "execution_count": 5,
   "metadata": {},
   "outputs": [
    {
     "name": "stdout",
     "output_type": "stream",
     "text": [
      "<class 'pandas.core.frame.DataFrame'>\n",
      "RangeIndex: 241 entries, 0 to 240\n",
      "Data columns (total 4 columns):\n",
      "Column    241 non-null object\n",
      "Name      241 non-null object\n",
      "Level     241 non-null object\n",
      "Rename    241 non-null object\n",
      "dtypes: object(4)\n",
      "memory usage: 7.6+ KB\n"
     ]
    }
   ],
   "source": [
    "filename = 'nas-labels.csv'\n",
    "labels = pd.read_csv(datapath+filename)\n",
    "labels.info()"
   ]
  },
  {
   "cell_type": "code",
   "execution_count": 6,
   "metadata": {},
   "outputs": [
    {
     "data": {
      "text/plain": [
       "['Category',\n",
       " 'Same language',\n",
       " 'Siblings',\n",
       " 'Handicap',\n",
       " 'Father edu',\n",
       " 'Mother edu',\n",
       " 'Father occupation',\n",
       " 'Mother occupation',\n",
       " 'Below poverty',\n",
       " 'Subjects']"
      ]
     },
     "execution_count": 6,
     "metadata": {},
     "output_type": "execute_result"
    }
   ],
   "source": [
    "zero_allowed = pd.DataFrame(labels.loc[labels['Level'].astype(str) == '0']) \n",
    "#Slightly janky, but I didn't want to drop the states and can't convert characters to base 10 ints implicitly.\n",
    "zero_allowed = zero_allowed['Column'].tolist()\n",
    "zero_allowed"
   ]
  },
  {
   "cell_type": "markdown",
   "metadata": {
    "collapsed": true
   },
   "source": [
    "So, this means that if any row has a zero value for a column that isn't one these displayed above, I need to find a way to either replace it with a mean/median value for that column or just drop that row altogether. \n",
    "Personally I prefer dropping if it doesn't reduce my dataset size too much, so let's try that first\n"
   ]
  },
  {
   "cell_type": "code",
   "execution_count": 7,
   "metadata": {
    "collapsed": true
   },
   "outputs": [],
   "source": [
    "temp = pd.DataFrame(columns = Data.columns.values.tolist())\n",
    "boobs = [item for item in Data.columns.values.tolist() if item not in zero_allowed]\n",
    "for col in boobs:\n",
    "#     print(Data.loc[Data[col].astype(str)=='0'])\n",
    "        temp.append(pd.DataFrame(Data.loc[Data[col].astype(str)=='0']),ignore_index=True)"
   ]
  },
  {
   "cell_type": "code",
   "execution_count": 8,
   "metadata": {},
   "outputs": [
    {
     "data": {
      "text/html": [
       "<div>\n",
       "<table border=\"1\" class=\"dataframe\">\n",
       "  <thead>\n",
       "    <tr style=\"text-align: right;\">\n",
       "      <th></th>\n",
       "      <th>STUID</th>\n",
       "      <th>State</th>\n",
       "      <th>District</th>\n",
       "      <th>Gender</th>\n",
       "      <th>Age</th>\n",
       "      <th>Category</th>\n",
       "      <th>Same language</th>\n",
       "      <th>Siblings</th>\n",
       "      <th>Handicap</th>\n",
       "      <th>Father edu</th>\n",
       "      <th>...</th>\n",
       "      <th>Express science views</th>\n",
       "      <th>Watch TV</th>\n",
       "      <th>Read magazine</th>\n",
       "      <th>Read a book</th>\n",
       "      <th>Play games</th>\n",
       "      <th>Help in household</th>\n",
       "      <th>Maths %</th>\n",
       "      <th>Reading %</th>\n",
       "      <th>Science %</th>\n",
       "      <th>Social %</th>\n",
       "    </tr>\n",
       "  </thead>\n",
       "  <tbody>\n",
       "  </tbody>\n",
       "</table>\n",
       "<p>0 rows × 64 columns</p>\n",
       "</div>"
      ],
      "text/plain": [
       "Empty DataFrame\n",
       "Columns: [STUID, State, District, Gender, Age, Category, Same language, Siblings, Handicap, Father edu, Mother edu, Father occupation, Mother occupation, Below poverty, Use calculator, Use computer, Use Internet, Use dictionary, Read other books, # Books, Distance, Computer use, Library use, Like school, Subjects, Give Lang HW, Give Math HW, Give Scie HW, Give SoSc HW, Correct Lang HW, Correct Math HW, Correct Scie HW, Correct SocS HW, Help in Study, Private tuition, English is difficult, Read English, Dictionary to learn, Answer English WB, Answer English aloud, Maths is difficult, Solve Maths, Solve Maths in groups, Draw geometry, Explain answers, SocSci is difficult, Historical excursions, Participate in SocSci, Small groups in SocSci, Express SocSci views, Science is difficult, Observe experiments, Conduct experiments, Solve science problems, Express science views, Watch TV, Read magazine, Read a book, Play games, Help in household, Maths %, Reading %, Science %, Social %]\n",
       "Index: []\n",
       "\n",
       "[0 rows x 64 columns]"
      ]
     },
     "execution_count": 8,
     "metadata": {},
     "output_type": "execute_result"
    }
   ],
   "source": [
    "temp"
   ]
  },
  {
   "cell_type": "code",
   "execution_count": null,
   "metadata": {
    "collapsed": true
   },
   "outputs": [],
   "source": []
  }
 ],
 "metadata": {
  "kernelspec": {
   "display_name": "Python 3",
   "language": "python",
   "name": "python3"
  },
  "language_info": {
   "codemirror_mode": {
    "name": "ipython",
    "version": 3
   },
   "file_extension": ".py",
   "mimetype": "text/x-python",
   "name": "python",
   "nbconvert_exporter": "python",
   "pygments_lexer": "ipython3",
   "version": "3.5.3"
  }
 },
 "nbformat": 4,
 "nbformat_minor": 2
}
